{
 "cells": [
  {
   "cell_type": "code",
   "execution_count": 4,
   "id": "38cca307",
   "metadata": {},
   "outputs": [],
   "source": [
    "# import dependencies \n",
    "import pandas as pd\n",
    "from splinter import Browser\n",
    "from bs4 import BeautifulSoup as soup\n",
    "import pandas as pd\n",
    "import datetime as dt\n",
    "from webdriver_manager.chrome import ChromeDriverManager\n",
    "import time\n",
    "import numpy as np\n",
    "import os\n",
    "import random"
   ]
  },
  {
   "cell_type": "code",
   "execution_count": 5,
   "id": "e5801578",
   "metadata": {},
   "outputs": [
    {
     "name": "stderr",
     "output_type": "stream",
     "text": [
      "\n",
      "\n",
      "====== WebDriver manager ======\n",
      "Current google-chrome version is 108.0.5359\n",
      "Get LATEST chromedriver version for 108.0.5359 google-chrome\n",
      "Driver [/Users/evanbruno/.wdm/drivers/chromedriver/mac64/108.0.5359.71/chromedriver] found in cache\n"
     ]
    }
   ],
   "source": [
    "# open browser\n",
    "executable_path = {'executable_path': ChromeDriverManager().install()}\n",
    "browser = Browser('chrome', **executable_path, headless=False)"
   ]
  },
  {
   "cell_type": "code",
   "execution_count": 70,
   "id": "88e21636",
   "metadata": {},
   "outputs": [],
   "source": [
    "# visit nba page \n",
    "url = 'https://www.kayak.com/'\n",
    "browser.visit(url)"
   ]
  },
  {
   "cell_type": "code",
   "execution_count": 4,
   "id": "041e9d67",
   "metadata": {},
   "outputs": [],
   "source": [
    "html = browser.html\n",
    "test = soup(html, 'html.parser')"
   ]
  },
  {
   "cell_type": "code",
   "execution_count": 15,
   "id": "74abfee9",
   "metadata": {},
   "outputs": [],
   "source": [
    "browser.quit()"
   ]
  },
  {
   "cell_type": "markdown",
   "id": "545841a6",
   "metadata": {},
   "source": [
    "## Stay"
   ]
  },
  {
   "cell_type": "code",
   "execution_count": 7,
   "id": "1202db91",
   "metadata": {},
   "outputs": [],
   "source": [
    "months_ref = {1: \"January\",\n",
    "          2: \"February\",\n",
    "          3: \"March\",\n",
    "          4: \"April\",\n",
    "          5: \"May\",\n",
    "          6: \"June\",\n",
    "          7: \"July\",\n",
    "          8: \"August\",\n",
    "          9: \"September\",\n",
    "          10: \"October\",\n",
    "          11: \"November\",\n",
    "          12: \"December\",\n",
    "   }"
   ]
  },
  {
   "cell_type": "code",
   "execution_count": 8,
   "id": "c9d3f045",
   "metadata": {},
   "outputs": [],
   "source": [
    "month_days = {\n",
    "    \"January\": 31,\n",
    "    \"February\": 28,\n",
    "    \"March\": 31,\n",
    "    \"April\": 30,\n",
    "    \"May\": 31,\n",
    "    \"June\": 30,\n",
    "    \"July\": 31,\n",
    "    \"August\": 31,\n",
    "    \"September\": 30,\n",
    "    \"October\": 31,\n",
    "    \"November\": 30,\n",
    "    \"December\": 31\n",
    "}"
   ]
  },
  {
   "cell_type": "code",
   "execution_count": 13,
   "id": "9f3f5861",
   "metadata": {},
   "outputs": [
    {
     "name": "stdout",
     "output_type": "stream",
     "text": [
      "How long do you plan on staying2\n",
      "What time interval would you like to scan MM-DD-YY - MM-DD-YY12-10-22 - 12-23-22\n",
      "What cities do you want to search seperate by ','Ashland\n",
      "How many people will be going2\n"
     ]
    }
   ],
   "source": [
    "stay = int(input(\"How long do you plan on staying\"))\n",
    "interval = input(\"What time interval would you like to scan MM-DD-YY - MM-DD-YY\")\n",
    "cities = input(\"What cities do you want to search seperate by ','\")\n",
    "people = input(\"How many people will be going\")"
   ]
  },
  {
   "cell_type": "code",
   "execution_count": 10,
   "id": "178a2084",
   "metadata": {},
   "outputs": [
    {
     "name": "stdout",
     "output_type": "stream",
     "text": [
      "How many adults will be staying (13+)2\n",
      "How many children0\n"
     ]
    }
   ],
   "source": [
    "adult = int(input(\"How many adults will be staying (13+)\"))\n",
    "child = int(input(\"How many children\"))"
   ]
  },
  {
   "cell_type": "code",
   "execution_count": 11,
   "id": "1c8798cc",
   "metadata": {},
   "outputs": [
    {
     "name": "stdout",
     "output_type": "stream",
     "text": [
      "What is your budget?200\n"
     ]
    }
   ],
   "source": [
    "budget = int(input(\"What is your budget?\"))"
   ]
  },
  {
   "cell_type": "code",
   "execution_count": 14,
   "id": "594b6309",
   "metadata": {},
   "outputs": [],
   "source": [
    "cities = cities.split(',')\n",
    "\n",
    "start = int(interval.split(' ')[0].split('-')[0])\n",
    "\n",
    "end = int(interval.split(' ')[2].split('-')[0])\n",
    "\n",
    "startDay = int(interval.split(' ')[0].split('-')[1])\n",
    "endDay = int(interval.split(' ')[2].split('-')[1])\n",
    "\n",
    "startMonth = months_ref[start]\n",
    "endMonth = months_ref[end]"
   ]
  },
  {
   "cell_type": "code",
   "execution_count": 172,
   "id": "8dbc15b3",
   "metadata": {},
   "outputs": [],
   "source": [
    "\n",
    "\n",
    "start = int(interval.split(' ')[0].split('-')[0])\n",
    "\n",
    "end = int(interval.split(' ')[2].split('-')[0])\n",
    "\n",
    "startDay = int(interval.split(' ')[0].split('-')[1])\n",
    "endDay = int(interval.split(' ')[2].split('-')[1])\n",
    "\n",
    "startMonth = months_ref[start]\n",
    "endMonth = months_ref[end]\n",
    "\n",
    "if end - start == 0:\n",
    "    end_start = month_days[startMonth]\n",
    "    \n",
    "    totalDays = end_start - startDay + 1\n",
    "    \n",
    "elif end - start < 0:\n",
    "    \n",
    "    end_start = month_days[startMonth]\n",
    "    \n",
    "    startCount = end_start - startDay + 1\n",
    "    \n",
    "    print(startCount)\n",
    "    \n",
    "    \n",
    "    end_end = endDay\n",
    "    \n",
    "    print(end_end)\n",
    "    \n",
    "    start += 1\n",
    "    \n",
    "    end -= 1\n",
    "    \n",
    "    startMonths = []\n",
    "    \n",
    "    endMonths = []\n",
    "    \n",
    "    while start < 13:\n",
    "        convert = months_ref[start]\n",
    "        \n",
    "        startCount = month_days[convert] + startCount\n",
    "        \n",
    "        start += 1\n",
    "        \n",
    "    while end > 0:\n",
    "        \n",
    "        convert = months_ref[start]\n",
    "        \n",
    "        end_end = month_days[convert] + end_end\n",
    "        \n",
    "        end -= 1\n",
    "        \n",
    "        \n",
    "        \n",
    "\n",
    "    totalDays = int((startCount + end_end) - stay)\n",
    "    \n",
    "    \n"
   ]
  },
  {
   "cell_type": "code",
   "execution_count": null,
   "id": "76a7a3bf",
   "metadata": {},
   "outputs": [],
   "source": []
  },
  {
   "cell_type": "code",
   "execution_count": null,
   "id": "522cca4b",
   "metadata": {},
   "outputs": [],
   "source": [
    "months = []\n",
    "\n",
    "count = 0\n",
    "\n",
    "total = {}\n",
    "\n",
    "html = browser.html\n",
    "test = soup(html, 'html.parser')\n",
    "    \n",
    "month = startMonth\n",
    "\n",
    "    \n",
    "while month != test.find(class_=\"wHSr-monthName\").get_text().split(' ')[0]:\n",
    "    browser.find_by_xpath('//*[@id=\"f6R_\"]/div[16]/div/div[2]/div/div[1]/div[3]/button').click()\n",
    "\n",
    "    time.sleep(0.5)\n",
    "    \n",
    "    html = browser.html\n",
    "    test = soup(html, 'html.parser')\n",
    "    \n",
    "for month in test.find_all(class_=\"wHSr-monthName\"):\n",
    "    months.append(month.get_text().split(' ')[0])\n",
    "    \n",
    "status = 0\n",
    "    \n",
    "\n",
    "for i in range(totalDays):\n",
    "    \n",
    "    rooms = {}\n",
    "    \n",
    "    html = browser.html\n",
    "    test = soup(html, 'html.parser')\n",
    "    \n",
    "\n",
    "    if endMonth == startMonth:\n",
    "        if (endDay - startDay) == stay:\n",
    "            print(True)\n",
    "            browser.find_by_text(str(startDay))[0].click()\n",
    "            time.sleep(0.5)\n",
    "            \n",
    "            if endDay == 31:\n",
    "            \n",
    "                browser.find_by_text(str(endDay))[0].click()\n",
    "                \n",
    "            else:\n",
    "                \n",
    "                browser.find_by_text(str(endDay))[0].click()\n",
    "                \n",
    "            \n",
    "            rooms = iteration(rooms)\n",
    "            \n",
    "            total[f\"{startMonth}-{startDay} to {startMonth}-{step}\"] = rooms\n",
    "\n",
    "        else:\n",
    "            \n",
    "\n",
    "            time.sleep(0.5)\n",
    "\n",
    "            step = startDay + stay\n",
    "\n",
    "            browser.find_by_text(str(startDay))[1].click()\n",
    "\n",
    "            browser.find_by_text(str(step))[1].click()\n",
    "\n",
    "            browser.find_by_xpath('//*[@id=\"search-tabpanel\"]/div/div[5]/div[1]/div[3]/button')\n",
    "            \n",
    "            rooms = iteration(rooms)\n",
    "\n",
    "            \n",
    "            total[f\"{startMonth}-{startDay} to {startMonth}-{step}\"] = rooms\n",
    "            \n",
    "            startDay += 1\n",
    "\n",
    "    else:\n",
    "        end_convert = month_days[months[0]]\n",
    "\n",
    "\n",
    "        step = startDay + stay\n",
    "\n",
    "        if (step <= end_convert) and (startDay <= end_convert):\n",
    "\n",
    "            browser.find_by_text(str(startDay))[1].click()\n",
    "\n",
    "            browser.find_by_text(str(step))[1].click()\n",
    "\n",
    "            startDay += 1\n",
    "\n",
    "            browser.find_by_text(\"Check in\").click()\n",
    "\n",
    "            time.sleep(0.5)\n",
    "\n",
    "            browser.find_by_xpath('//*[@id=\"search-tabpanel\"]/div/div[3]/div[1]/div[2]/div/button')\n",
    "            \n",
    "            \n",
    "            rooms = iteration(rooms)\n",
    "\n",
    "            \n",
    "            total[f\"{month}-{startDay} to {month}-{step}\"] = rooms\n",
    "\n",
    "        elif startDay > end_convert:\n",
    "\n",
    "            startDay = 1\n",
    "            step = startDay + stay\n",
    "            end_convert = month_days[month]\n",
    "\n",
    "            print(startDay)\n",
    "\n",
    "            browser.find_by_text(str(startDay))[2].click()\n",
    "\n",
    "            browser.find_by_text(str(step))[2].click()\n",
    "\n",
    "            startDay += 1\n",
    "\n",
    "            browser.find_by_text(\"Check in\").click()\n",
    "\n",
    "            time.sleep(0.5)\n",
    "\n",
    "            browser.find_by_xpath('//*[@id=\"search-tabpanel\"]/div/div[3]/div[1]/div[2]/div/button').click()\n",
    "\n",
    "            browser.find_by_xpath('//*[@id=\"panel--tabs--0\"]/div/div[1]/div/div/div/div/div[2]/div[1]/div[2]/button').click()\n",
    "\n",
    "            html = browser.html\n",
    "            test = soup(html, 'html.parser')\n",
    "\n",
    "            time.sleep(0.2)\n",
    "\n",
    "            month = test.find_all(class_=\"_14i3z6h\")[1].get_text().split(' ')[0]\n",
    "            \n",
    "            count += 1\n",
    "            \n",
    "            rooms = iteration(rooms)\n",
    "\n",
    "            \n",
    "            total[f\"{month}-{startDay} to {month}-{step}\"] = rooms\n",
    "            \n",
    "            \n",
    "\n",
    "\n",
    "        elif step > end_convert:\n",
    "\n",
    "            move = step - end_convert\n",
    "\n",
    "            browser.find_by_text(str(startDay))[1].click()\n",
    "\n",
    "            browser.find_by_text(str(move))[2].click()\n",
    "\n",
    "            startDay += 1\n",
    "\n",
    "            browser.find_by_text(\"Check in\").click()\n",
    "\n",
    "            time.sleep(0.5)\n",
    "\n",
    "            browser.find_by_xpath('//*[@id=\"search-tabpanel\"]/div/div[3]/div[1]/div[2]/div/button')\n",
    "            \n",
    "            rooms = iteration(rooms)\n",
    "            \n",
    "            \n",
    "            total[f\"{month}-{startDay} to {months[count]}-{move}\"] = rooms\n",
    "            \n",
    "            \n",
    "\n",
    "\n"
   ]
  },
  {
   "cell_type": "code",
   "execution_count": 6,
   "id": "110a9e98",
   "metadata": {
    "scrolled": true
   },
   "outputs": [],
   "source": [
    "# visit nba page \n",
    "url = 'https://www.kayak.com/stays'\n",
    "browser.visit(url)"
   ]
  },
  {
   "cell_type": "code",
   "execution_count": 174,
   "id": "a5b70e2e",
   "metadata": {},
   "outputs": [],
   "source": [
    "browser.find_by_xpath('/html/body/div[2]/div[1]/div[1]/div[2]/div/div[1]/div[2]/div[2]/div[1]/div[2]/div/div[2]/div[2]').click()"
   ]
  },
  {
   "cell_type": "code",
   "execution_count": 180,
   "id": "07a3d417",
   "metadata": {},
   "outputs": [
    {
     "data": {
      "text/plain": [
       "'December'"
      ]
     },
     "execution_count": 180,
     "metadata": {},
     "output_type": "execute_result"
    }
   ],
   "source": [
    "html = browser.html\n",
    "test = soup(html, 'html.parser')\n",
    "\n",
    "test.find(class_=\"wHSr-monthName\").get_text().split(' ')[0]"
   ]
  },
  {
   "cell_type": "code",
   "execution_count": 22,
   "id": "ccb745e5",
   "metadata": {
    "scrolled": true
   },
   "outputs": [],
   "source": [
    "browser.find_by_xpath('//*[@id=\"c1U6s\"]/div/div/div[1]/div[1]/div/div/input').fill(cities)\n",
    "\n",
    "\n"
   ]
  },
  {
   "cell_type": "code",
   "execution_count": 23,
   "id": "60473a0b",
   "metadata": {},
   "outputs": [],
   "source": [
    "browser.find_by_text('Where are you staying?').click()"
   ]
  },
  {
   "cell_type": "code",
   "execution_count": 89,
   "id": "3473e103",
   "metadata": {},
   "outputs": [
    {
     "data": {
      "text/plain": [
       "3"
      ]
     },
     "execution_count": 89,
     "metadata": {},
     "output_type": "execute_result"
    }
   ],
   "source": [
    "len(browser.find_by_text('27'))"
   ]
  },
  {
   "cell_type": "code",
   "execution_count": 25,
   "id": "c9a96dbd",
   "metadata": {},
   "outputs": [],
   "source": [
    "browser.find_by_text('27')[1].click()"
   ]
  },
  {
   "cell_type": "code",
   "execution_count": 28,
   "id": "ab0a5bdd",
   "metadata": {},
   "outputs": [],
   "source": [
    "browser.find_by_text('28')[2].click()"
   ]
  },
  {
   "cell_type": "code",
   "execution_count": 29,
   "id": "4fea5478",
   "metadata": {},
   "outputs": [],
   "source": [
    "if adult > 2:\n",
    "    left = adult - 2\n",
    "    \n",
    "    for i in range(left):\n",
    "    \n",
    "        browser.find_by_xpath('/html/body/div[15]/div/div/div/div/div/div[1]/div/button[2]').click()\n",
    "    \n",
    "elif adult < 1:\n",
    "    \n",
    "    browser.find_by_xpath('/html/body/div[15]/div/div/div/div/div/div[2]/div/button[1]').click()\n",
    "    \n",
    "\n",
    "if child > 0:\n",
    "    for i in range(child):\n",
    "        browser.find_by_xpath('/html/body/div[15]/div/div/div/div/div/div[3]/div/button[2]').click()"
   ]
  },
  {
   "cell_type": "code",
   "execution_count": 30,
   "id": "1932146e",
   "metadata": {},
   "outputs": [
    {
     "ename": "ElementDoesNotExist",
     "evalue": "no elements could be found with xpath \"/html/body/div[2]/div[1]/main/div[1]/div[1]/div/div[1]/div/div/section/div/div/div/div/div/div[1]/div[2]/button\"",
     "output_type": "error",
     "traceback": [
      "\u001b[0;31m---------------------------------------------------------------------------\u001b[0m",
      "\u001b[0;31mIndexError\u001b[0m                                Traceback (most recent call last)",
      "File \u001b[0;32m~/opt/anaconda3/lib/python3.9/site-packages/splinter/element_list.py:39\u001b[0m, in \u001b[0;36mElementList.__getitem__\u001b[0;34m(self, index)\u001b[0m\n\u001b[1;32m     38\u001b[0m \u001b[38;5;28;01mtry\u001b[39;00m:\n\u001b[0;32m---> 39\u001b[0m     \u001b[38;5;28;01mreturn\u001b[39;00m \u001b[38;5;28;43mself\u001b[39;49m\u001b[38;5;241;43m.\u001b[39;49m\u001b[43m_container\u001b[49m\u001b[43m[\u001b[49m\u001b[43mindex\u001b[49m\u001b[43m]\u001b[49m\n\u001b[1;32m     40\u001b[0m \u001b[38;5;28;01mexcept\u001b[39;00m \u001b[38;5;167;01mIndexError\u001b[39;00m:\n",
      "\u001b[0;31mIndexError\u001b[0m: list index out of range",
      "\nDuring handling of the above exception, another exception occurred:\n",
      "\u001b[0;31mElementDoesNotExist\u001b[0m                       Traceback (most recent call last)",
      "Input \u001b[0;32mIn [30]\u001b[0m, in \u001b[0;36m<cell line: 1>\u001b[0;34m()\u001b[0m\n\u001b[0;32m----> 1\u001b[0m \u001b[43mbrowser\u001b[49m\u001b[38;5;241;43m.\u001b[39;49m\u001b[43mfind_by_xpath\u001b[49m\u001b[43m(\u001b[49m\u001b[38;5;124;43m'\u001b[39;49m\u001b[38;5;124;43m/html/body/div[2]/div[1]/main/div[1]/div[1]/div/div[1]/div/div/section/div/div/div/div/div/div[1]/div[2]/button\u001b[39;49m\u001b[38;5;124;43m'\u001b[39;49m\u001b[43m)\u001b[49m\u001b[38;5;241;43m.\u001b[39;49m\u001b[43mclick\u001b[49m()\n",
      "File \u001b[0;32m~/opt/anaconda3/lib/python3.9/site-packages/splinter/element_list.py:77\u001b[0m, in \u001b[0;36mElementList.__getattr__\u001b[0;34m(self, name)\u001b[0m\n\u001b[1;32m     75\u001b[0m \u001b[38;5;28;01mdef\u001b[39;00m \u001b[38;5;21m__getattr__\u001b[39m(\u001b[38;5;28mself\u001b[39m, name):\n\u001b[1;32m     76\u001b[0m     \u001b[38;5;28;01mtry\u001b[39;00m:\n\u001b[0;32m---> 77\u001b[0m         \u001b[38;5;28;01mreturn\u001b[39;00m \u001b[38;5;28mgetattr\u001b[39m(\u001b[38;5;28;43mself\u001b[39;49m\u001b[38;5;241;43m.\u001b[39;49m\u001b[43mfirst\u001b[49m, name)\n\u001b[1;32m     78\u001b[0m     \u001b[38;5;28;01mexcept\u001b[39;00m \u001b[38;5;167;01mAttributeError\u001b[39;00m:\n\u001b[1;32m     79\u001b[0m         \u001b[38;5;28;01mtry\u001b[39;00m:\n",
      "File \u001b[0;32m~/opt/anaconda3/lib/python3.9/site-packages/splinter/element_list.py:55\u001b[0m, in \u001b[0;36mElementList.first\u001b[0;34m(self)\u001b[0m\n\u001b[1;32m     47\u001b[0m \u001b[38;5;129m@property\u001b[39m\n\u001b[1;32m     48\u001b[0m \u001b[38;5;28;01mdef\u001b[39;00m \u001b[38;5;21mfirst\u001b[39m(\u001b[38;5;28mself\u001b[39m):\n\u001b[1;32m     49\u001b[0m     \u001b[38;5;124;03m\"\"\"An alias to the first element of the list.\u001b[39;00m\n\u001b[1;32m     50\u001b[0m \n\u001b[1;32m     51\u001b[0m \u001b[38;5;124;03m    Example:\u001b[39;00m\n\u001b[1;32m     52\u001b[0m \n\u001b[1;32m     53\u001b[0m \u001b[38;5;124;03m        >>> assert element_list[0] == element_list.first\u001b[39;00m\n\u001b[1;32m     54\u001b[0m \u001b[38;5;124;03m    \"\"\"\u001b[39;00m\n\u001b[0;32m---> 55\u001b[0m     \u001b[38;5;28;01mreturn\u001b[39;00m \u001b[38;5;28;43mself\u001b[39;49m\u001b[43m[\u001b[49m\u001b[38;5;241;43m0\u001b[39;49m\u001b[43m]\u001b[49m\n",
      "File \u001b[0;32m~/opt/anaconda3/lib/python3.9/site-packages/splinter/element_list.py:41\u001b[0m, in \u001b[0;36mElementList.__getitem__\u001b[0;34m(self, index)\u001b[0m\n\u001b[1;32m     39\u001b[0m     \u001b[38;5;28;01mreturn\u001b[39;00m \u001b[38;5;28mself\u001b[39m\u001b[38;5;241m.\u001b[39m_container[index]\n\u001b[1;32m     40\u001b[0m \u001b[38;5;28;01mexcept\u001b[39;00m \u001b[38;5;167;01mIndexError\u001b[39;00m:\n\u001b[0;32m---> 41\u001b[0m     \u001b[38;5;28;01mraise\u001b[39;00m ElementDoesNotExist(\n\u001b[1;32m     42\u001b[0m         \u001b[38;5;124mu\u001b[39m\u001b[38;5;124m'\u001b[39m\u001b[38;5;124mno elements could be found with \u001b[39m\u001b[38;5;132;01m{0}\u001b[39;00m\u001b[38;5;124m \u001b[39m\u001b[38;5;124m\"\u001b[39m\u001b[38;5;132;01m{1}\u001b[39;00m\u001b[38;5;124m\"\u001b[39m\u001b[38;5;124m'\u001b[39m\u001b[38;5;241m.\u001b[39mformat(\n\u001b[1;32m     43\u001b[0m             \u001b[38;5;28mself\u001b[39m\u001b[38;5;241m.\u001b[39mfind_by, \u001b[38;5;28mself\u001b[39m\u001b[38;5;241m.\u001b[39mquery\n\u001b[1;32m     44\u001b[0m         )\n\u001b[1;32m     45\u001b[0m     )\n",
      "\u001b[0;31mElementDoesNotExist\u001b[0m: no elements could be found with xpath \"/html/body/div[2]/div[1]/main/div[1]/div[1]/div/div[1]/div/div/section/div/div/div/div/div/div[1]/div[2]/button\""
     ]
    }
   ],
   "source": [
    "browser.find_by_xpath('/html/body/div[2]/div[1]/main/div[1]/div[1]/div/div[1]/div/div/section/div/div/div/div/div/div[1]/div[2]/button').click()\n",
    "\n",
    "\n"
   ]
  },
  {
   "cell_type": "code",
   "execution_count": 24,
   "id": "5e64631a",
   "metadata": {},
   "outputs": [],
   "source": [
    "browser.find_by_id('ResultsListSortDropdown').click()"
   ]
  },
  {
   "cell_type": "code",
   "execution_count": 25,
   "id": "e336fb93",
   "metadata": {},
   "outputs": [],
   "source": [
    "browser.find_by_text('Price (low to high)').click()"
   ]
  },
  {
   "cell_type": "code",
   "execution_count": 49,
   "id": "2652edee",
   "metadata": {},
   "outputs": [],
   "source": [
    "html = browser.html\n",
    "test = soup(html, 'html.parser')"
   ]
  },
  {
   "cell_type": "code",
   "execution_count": null,
   "id": "9d230dfd",
   "metadata": {},
   "outputs": [],
   "source": []
  },
  {
   "cell_type": "code",
   "execution_count": 27,
   "id": "79a04ce5",
   "metadata": {},
   "outputs": [],
   "source": [
    "def hotel_function(dataset, budget):\n",
    "    \n",
    "    data = range(len(dataset))\n",
    "    \n",
    "\n",
    "    for i in data:\n",
    "\n",
    "        name = dataset[i].find(class_=\"FLpo-hotel-name\").get_text()\n",
    "\n",
    "\n",
    "        price_string = dataset[i].find(class_=\"zV27-price\").get_text()\n",
    "\n",
    "        price_string = price_string.split('$')[1]\n",
    "        \n",
    "        price_string = int(price_string.split('*')[0])\n",
    "\n",
    "        score = dataset[i].find(class_=\"FLpo-reviews\").get_text()\n",
    "        \n",
    "        if price_string > budget:\n",
    "            return i, price_string\n",
    "\n",
    "        if score == 'No reviews yet':\n",
    "            print(\"No Reviews\")\n",
    "\n",
    "        else:\n",
    "            score = score[:3]\n",
    "\n",
    "        hotels[name] = {\"Price\": price_string, \"Score\": score}\n",
    "        \n",
    "    \n",
    "        \n",
    "    return i, price_string\n"
   ]
  },
  {
   "cell_type": "code",
   "execution_count": 39,
   "id": "25e8b742",
   "metadata": {},
   "outputs": [
    {
     "name": "stdout",
     "output_type": "stream",
     "text": [
      "No Reviews\n",
      "No Reviews\n",
      "No Reviews\n",
      "No Reviews\n",
      "No Reviews\n",
      "No Reviews\n",
      "No Reviews\n",
      "No Reviews\n",
      "No Reviews\n",
      "No Reviews\n",
      "No Reviews\n",
      "No Reviews\n",
      "No Reviews\n",
      "No Reviews\n",
      "No Reviews\n",
      "No Reviews\n",
      "No Reviews\n",
      "No Reviews\n",
      "No Reviews\n",
      "No Reviews\n",
      "Max\n"
     ]
    }
   ],
   "source": [
    "def iteration(hotels):\n",
    "    data = range(len(dataset))\n",
    "\n",
    "\n",
    "    for i in data:\n",
    "\n",
    "        name = dataset[i].find(class_=\"FLpo-hotel-name\").get_text()\n",
    "\n",
    "\n",
    "        price_string = dataset[i].find(class_=\"zV27-price\").get_text()\n",
    "\n",
    "        price_string = price_string.split('$')[1]\n",
    "\n",
    "        price_string = int(price_string.split('*')[0])\n",
    "\n",
    "        score = dataset[i].find(class_=\"FLpo-reviews\").get_text()\n",
    "\n",
    "        if price_string > budget:\n",
    "            print('Max')\n",
    "            break\n",
    "\n",
    "        if score == 'No reviews yet':\n",
    "            print(\"No Reviews\")\n",
    "\n",
    "        else:\n",
    "            score = score[:3]\n",
    "\n",
    "        hotels[name] = {\"Price\": price_string, \"Score\": score}\n",
    "        \n",
    "    browser.find_by_xpath('//*[@id=\"searchFormDialog\"]/section[2]/div/div[1]/div[1]/div[2]/div/div/div/div[1]/span/span[1]/span').click()\n",
    "        \n",
    "    return hotels\n"
   ]
  },
  {
   "cell_type": "code",
   "execution_count": 40,
   "id": "bc626e96",
   "metadata": {},
   "outputs": [
    {
     "data": {
      "text/plain": [
       "215"
      ]
     },
     "execution_count": 40,
     "metadata": {},
     "output_type": "execute_result"
    }
   ],
   "source": [
    "price_string"
   ]
  },
  {
   "cell_type": "code",
   "execution_count": 41,
   "id": "c2658234",
   "metadata": {},
   "outputs": [
    {
     "data": {
      "text/plain": [
       "200"
      ]
     },
     "execution_count": 41,
     "metadata": {},
     "output_type": "execute_result"
    }
   ],
   "source": [
    "budget"
   ]
  },
  {
   "cell_type": "code",
   "execution_count": 44,
   "id": "3ce46d07",
   "metadata": {},
   "outputs": [
    {
     "name": "stdout",
     "output_type": "stream",
     "text": [
      "No Reviews\n",
      "No Reviews\n",
      "No Reviews\n",
      "No Reviews\n",
      "No Reviews\n",
      "No Reviews\n",
      "No Reviews\n",
      "No Reviews\n",
      "No Reviews\n",
      "No Reviews\n",
      "No Reviews\n",
      "No Reviews\n",
      "No Reviews\n",
      "No Reviews\n",
      "No Reviews\n",
      "No Reviews\n",
      "No Reviews\n",
      "No Reviews\n",
      "No Reviews\n",
      "No Reviews\n",
      "No Reviews\n",
      "No Reviews\n",
      "No Reviews\n",
      "No Reviews\n",
      "No Reviews\n",
      "No Reviews\n",
      "No Reviews\n",
      "No Reviews\n",
      "No Reviews\n",
      "No Reviews\n",
      "No Reviews\n",
      "No Reviews\n",
      "No Reviews\n",
      "No Reviews\n",
      "No Reviews\n"
     ]
    }
   ],
   "source": [
    "hotels = {}\n",
    "\n",
    "price_string = 0\n",
    "\n",
    "i = 0\n",
    "\n",
    "while price_string < budget:\n",
    "    time.sleep(1)\n",
    "    \n",
    "    html = browser.html\n",
    "    test = soup(html, 'html.parser')\n",
    "    \n",
    "    data = test.find(class_=\"c559F\").find_all(class_=\"kzGk\")\n",
    "    \n",
    "    dataset = data[i:]\n",
    "    \n",
    "    i, price_string = hotel_function(dataset, budget)\n",
    "    \n",
    "    time.sleep(1)\n",
    "    \n",
    "    try:\n",
    "    \n",
    "        browser.find_by_text('\\nShow more results\\n').click()\n",
    "    except:\n",
    "        print('Max listings')\n"
   ]
  },
  {
   "cell_type": "code",
   "execution_count": 45,
   "id": "0e8d403a",
   "metadata": {},
   "outputs": [
    {
     "data": {
      "text/html": [
       "<div>\n",
       "<style scoped>\n",
       "    .dataframe tbody tr th:only-of-type {\n",
       "        vertical-align: middle;\n",
       "    }\n",
       "\n",
       "    .dataframe tbody tr th {\n",
       "        vertical-align: top;\n",
       "    }\n",
       "\n",
       "    .dataframe thead th {\n",
       "        text-align: right;\n",
       "    }\n",
       "</style>\n",
       "<table border=\"1\" class=\"dataframe\">\n",
       "  <thead>\n",
       "    <tr style=\"text-align: right;\">\n",
       "      <th></th>\n",
       "      <th>Price</th>\n",
       "      <th>Score</th>\n",
       "    </tr>\n",
       "  </thead>\n",
       "  <tbody>\n",
       "    <tr>\n",
       "      <th>Motel 6 Medford North</th>\n",
       "      <td>55</td>\n",
       "      <td>6.5</td>\n",
       "    </tr>\n",
       "    <tr>\n",
       "      <th>Motel 6 Medford South</th>\n",
       "      <td>55</td>\n",
       "      <td>5.7</td>\n",
       "    </tr>\n",
       "    <tr>\n",
       "      <th>Budget Inn of America</th>\n",
       "      <td>68</td>\n",
       "      <td>5.3</td>\n",
       "    </tr>\n",
       "    <tr>\n",
       "      <th>Relax Inn At Ashland</th>\n",
       "      <td>68</td>\n",
       "      <td>No reviews yet</td>\n",
       "    </tr>\n",
       "    <tr>\n",
       "      <th>Travelers Inn Medford</th>\n",
       "      <td>69</td>\n",
       "      <td>4.7</td>\n",
       "    </tr>\n",
       "    <tr>\n",
       "      <th>...</th>\n",
       "      <td>...</td>\n",
       "      <td>...</td>\n",
       "    </tr>\n",
       "    <tr>\n",
       "      <th>Water's Edge Rv At Paschal Winery ~ Hot Tub</th>\n",
       "      <td>168</td>\n",
       "      <td>9.8</td>\n",
       "    </tr>\n",
       "    <tr>\n",
       "      <th>Pachal Winery Glamp Cottage ~ Hot Tub</th>\n",
       "      <td>168</td>\n",
       "      <td>10W</td>\n",
       "    </tr>\n",
       "    <tr>\n",
       "      <th>Peerless Hotel~ Suite 3 ~ Downtown Ashland</th>\n",
       "      <td>168</td>\n",
       "      <td>No reviews yet</td>\n",
       "    </tr>\n",
       "    <tr>\n",
       "      <th>Wine Suite At Rellik House~pool~ Winery &amp; Alpaca F...</th>\n",
       "      <td>186</td>\n",
       "      <td>9.6</td>\n",
       "    </tr>\n",
       "    <tr>\n",
       "      <th>Rellik Alpaca Suite~ Pool~ Hot Tub</th>\n",
       "      <td>187</td>\n",
       "      <td>No reviews yet</td>\n",
       "    </tr>\n",
       "  </tbody>\n",
       "</table>\n",
       "<p>78 rows × 2 columns</p>\n",
       "</div>"
      ],
      "text/plain": [
       "                                                    Price           Score\n",
       "Motel 6 Medford North                                  55             6.5\n",
       "Motel 6 Medford South                                  55             5.7\n",
       "Budget Inn of America                                  68             5.3\n",
       "Relax Inn At Ashland                                   68  No reviews yet\n",
       "Travelers Inn Medford                                  69             4.7\n",
       "...                                                   ...             ...\n",
       "Water's Edge Rv At Paschal Winery ~ Hot Tub           168             9.8\n",
       "Pachal Winery Glamp Cottage ~ Hot Tub                 168             10W\n",
       "Peerless Hotel~ Suite 3 ~ Downtown Ashland            168  No reviews yet\n",
       "Wine Suite At Rellik House~pool~ Winery & Alpac...    186             9.6\n",
       "Rellik Alpaca Suite~ Pool~ Hot Tub                    187  No reviews yet\n",
       "\n",
       "[78 rows x 2 columns]"
      ]
     },
     "execution_count": 45,
     "metadata": {},
     "output_type": "execute_result"
    }
   ],
   "source": [
    "test = pd.DataFrame.from_dict(hotels, orient='index').sort_values('Price')\n",
    "test"
   ]
  },
  {
   "cell_type": "code",
   "execution_count": 47,
   "id": "f4d4c1d2",
   "metadata": {},
   "outputs": [],
   "source": [
    "i.find(class_=\"FLpo-score\")"
   ]
  },
  {
   "cell_type": "code",
   "execution_count": 57,
   "id": "19dfd56a",
   "metadata": {},
   "outputs": [],
   "source": [
    "browser.quit()"
   ]
  },
  {
   "cell_type": "markdown",
   "id": "575e785b",
   "metadata": {},
   "source": [
    "## Flight + Stay"
   ]
  },
  {
   "cell_type": "code",
   "execution_count": null,
   "id": "6f962904",
   "metadata": {},
   "outputs": [],
   "source": []
  }
 ],
 "metadata": {
  "kernelspec": {
   "display_name": "PythonData",
   "language": "python",
   "name": "pythondata"
  },
  "language_info": {
   "codemirror_mode": {
    "name": "ipython",
    "version": 3
   },
   "file_extension": ".py",
   "mimetype": "text/x-python",
   "name": "python",
   "nbconvert_exporter": "python",
   "pygments_lexer": "ipython3",
   "version": "3.9.7"
  }
 },
 "nbformat": 4,
 "nbformat_minor": 5
}
