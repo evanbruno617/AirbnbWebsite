{
 "cells": [
  {
   "cell_type": "code",
   "execution_count": null,
   "id": "11877cc5",
   "metadata": {},
   "outputs": [],
   "source": [
    "# Notes could scrape kayak and use data for website buy scraping all possiblilities for traveling within givin timeframe and provide cheapest package \n",
    "\n"
   ]
  }
 ],
 "metadata": {
  "kernelspec": {
   "display_name": "PythonData",
   "language": "python",
   "name": "pythondata"
  },
  "language_info": {
   "codemirror_mode": {
    "name": "ipython",
    "version": 3
   },
   "file_extension": ".py",
   "mimetype": "text/x-python",
   "name": "python",
   "nbconvert_exporter": "python",
   "pygments_lexer": "ipython3",
   "version": "3.9.7"
  }
 },
 "nbformat": 4,
 "nbformat_minor": 5
}
